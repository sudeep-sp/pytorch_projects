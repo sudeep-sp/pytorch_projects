{
 "cells": [
  {
   "cell_type": "markdown",
   "metadata": {},
   "source": [
    "# Tensors\n",
    "\n",
    "* A torch is a multi-dim matrix containing elements of a single data type.\n",
    "* Similar To Numpy Arrays, but full of fun things that make them work better on GPU's (vs regular CPU's)\n",
    "* default datatype of float32.\n",
    "* More suitable for DL then a numpy array"
   ]
  },
  {
   "cell_type": "code",
   "execution_count": 3,
   "metadata": {},
   "outputs": [],
   "source": [
    "import torch\n",
    "import numpy as np"
   ]
  },
  {
   "cell_type": "markdown",
   "metadata": {},
   "source": [
    "# Lists"
   ]
  },
  {
   "cell_type": "code",
   "execution_count": 4,
   "metadata": {},
   "outputs": [
    {
     "data": {
      "text/plain": [
       "[[1, 2], [3, 4]]"
      ]
     },
     "execution_count": 4,
     "metadata": {},
     "output_type": "execute_result"
    }
   ],
   "source": [
    "my_list = [[1, 2], [3, 4]]\n",
    "my_list"
   ]
  },
  {
   "cell_type": "markdown",
   "metadata": {},
   "source": [
    "# Numpy Array"
   ]
  },
  {
   "cell_type": "code",
   "execution_count": 5,
   "metadata": {},
   "outputs": [
    {
     "data": {
      "text/plain": [
       "array([[0.84781136, 0.45356856, 0.523766  , 0.95784514],\n",
       "       [0.64705596, 0.04795623, 0.35464058, 0.15836711],\n",
       "       [0.57947308, 0.65852217, 0.76176591, 0.75470592],\n",
       "       [0.10588328, 0.30143238, 0.8054492 , 0.85267795]])"
      ]
     },
     "execution_count": 5,
     "metadata": {},
     "output_type": "execute_result"
    }
   ],
   "source": [
    "np1 = np.random.rand(4, 4)\n",
    "np1"
   ]
  },
  {
   "cell_type": "code",
   "execution_count": 6,
   "metadata": {},
   "outputs": [
    {
     "data": {
      "text/plain": [
       "dtype('float64')"
      ]
     },
     "execution_count": 6,
     "metadata": {},
     "output_type": "execute_result"
    }
   ],
   "source": [
    "np1.dtype"
   ]
  },
  {
   "cell_type": "markdown",
   "metadata": {},
   "source": [
    "# Tensors"
   ]
  },
  {
   "cell_type": "code",
   "execution_count": 7,
   "metadata": {},
   "outputs": [
    {
     "data": {
      "text/plain": [
       "tensor([[-1.0463,  0.0686, -0.5600,  0.4913],\n",
       "        [-1.0882,  0.2772, -0.6668,  0.5364],\n",
       "        [-1.3718,  0.7793, -1.8330,  2.1230],\n",
       "        [ 0.5056,  0.5010, -0.5769, -0.2931]])"
      ]
     },
     "execution_count": 7,
     "metadata": {},
     "output_type": "execute_result"
    }
   ],
   "source": [
    "tensor_2d = torch.randn(4, 4)\n",
    "tensor_2d"
   ]
  },
  {
   "cell_type": "code",
   "execution_count": 8,
   "metadata": {},
   "outputs": [
    {
     "data": {
      "text/plain": [
       "tensor([[[-0.6727,  0.2149,  0.5973, -1.5539],\n",
       "         [-0.7421, -1.3391, -0.3470, -1.6300],\n",
       "         [-0.0918, -1.4990,  1.1055, -1.3470]],\n",
       "\n",
       "        [[-0.7453, -0.2594,  1.7996, -0.6395],\n",
       "         [-0.3538,  0.1932, -1.6250,  0.2811],\n",
       "         [ 0.0965, -0.2910,  0.8324,  0.4731]]])"
      ]
     },
     "execution_count": 8,
     "metadata": {},
     "output_type": "execute_result"
    }
   ],
   "source": [
    "tensor_3d = torch.randn(2, 3, 4)\n",
    "tensor_3d"
   ]
  },
  {
   "cell_type": "code",
   "execution_count": 12,
   "metadata": {},
   "outputs": [
    {
     "data": {
      "text/plain": [
       "torch.float32"
      ]
     },
     "execution_count": 12,
     "metadata": {},
     "output_type": "execute_result"
    }
   ],
   "source": [
    "tensor_3d.dtype"
   ]
  },
  {
   "cell_type": "code",
   "execution_count": 9,
   "metadata": {},
   "outputs": [],
   "source": [
    "#creating a tensor from a numpy array\n",
    "np_tensor = torch.from_numpy(np1)"
   ]
  },
  {
   "cell_type": "code",
   "execution_count": 10,
   "metadata": {},
   "outputs": [
    {
     "data": {
      "text/plain": [
       "tensor([[0.8478, 0.4536, 0.5238, 0.9578],\n",
       "        [0.6471, 0.0480, 0.3546, 0.1584],\n",
       "        [0.5795, 0.6585, 0.7618, 0.7547],\n",
       "        [0.1059, 0.3014, 0.8054, 0.8527]], dtype=torch.float64)"
      ]
     },
     "execution_count": 10,
     "metadata": {},
     "output_type": "execute_result"
    }
   ],
   "source": [
    "np_tensor"
   ]
  },
  {
   "cell_type": "code",
   "execution_count": null,
   "metadata": {},
   "outputs": [],
   "source": []
  }
 ],
 "metadata": {
  "kernelspec": {
   "display_name": "PyTorch",
   "language": "python",
   "name": "python3"
  },
  "language_info": {
   "codemirror_mode": {
    "name": "ipython",
    "version": 3
   },
   "file_extension": ".py",
   "mimetype": "text/x-python",
   "name": "python",
   "nbconvert_exporter": "python",
   "pygments_lexer": "ipython3",
   "version": "3.12.5"
  }
 },
 "nbformat": 4,
 "nbformat_minor": 2
}
